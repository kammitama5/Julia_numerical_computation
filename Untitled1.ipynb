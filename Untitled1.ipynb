
function double(testvar)
    println(testvar * 2)
end

println(double(4))

double(4)
